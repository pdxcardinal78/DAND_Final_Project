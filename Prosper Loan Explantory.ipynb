{
 "cells": [
  {
   "cell_type": "markdown",
   "metadata": {
    "slideshow": {
     "slide_type": "slide"
    }
   },
   "source": [
    "# Relationships between Loan Characteristics and Chance of Default\n",
    "## by Ryan Johnson"
   ]
  },
  {
   "cell_type": "markdown",
   "metadata": {
    "slideshow": {
     "slide_type": "slide"
    }
   },
   "source": [
    "## Investigation Overview\n",
    "\n",
    "> In this investigation, I wanted to look at why loans tended to default. The main focus was on LoanStatus, which had several designations, which I combined into Default or Current. Meaning the loan was either current, or in some form of default. All complete loans were dropped. This was then compared against several different categories, such as, ProsperScore, LoanAmount, BorrowerAPR and ListingCategory.\n",
    "\n",
    "## Dataset Overview\n",
    "\n",
    "> The original data set consisted of 113,937 loans which was later brought down to 72,555 loans that were still active(not complete). LoanStatus was then compared to several different categories to see if a trend exists as to why loans default."
   ]
  },
  {
   "cell_type": "code",
   "execution_count": 13,
   "metadata": {
    "slideshow": {
     "slide_type": "skip"
    }
   },
   "outputs": [],
   "source": [
    "# import all packages and set plots to be embedded inline\n",
    "import numpy as np\n",
    "import pandas as pd\n",
    "import matplotlib.pyplot as plt\n",
    "import seaborn as sns\n",
    "\n",
    "%matplotlib inline\n",
    "\n",
    "# suppress warnings from final output\n",
    "import warnings\n",
    "warnings.simplefilter(\"ignore\")"
   ]
  },
  {
   "cell_type": "code",
   "execution_count": 3,
   "metadata": {
    "slideshow": {
     "slide_type": "skip"
    }
   },
   "outputs": [],
   "source": [
    "# load in the dataset into a pandas dataframe\n",
    "loans = pd.read_csv('prosperLoanData.csv')"
   ]
  },
  {
   "cell_type": "code",
   "execution_count": 4,
   "metadata": {
    "slideshow": {
     "slide_type": "skip"
    }
   },
   "outputs": [],
   "source": [
    "# Remove Null values from object data types\n",
    "objects = loans.select_dtypes(include=['object']).columns.values\n",
    "loans[objects] = loans[objects].fillna('Unknown')"
   ]
  },
  {
   "cell_type": "code",
   "execution_count": 5,
   "metadata": {
    "slideshow": {
     "slide_type": "skip"
    }
   },
   "outputs": [
    {
     "data": {
      "text/plain": [
       "0"
      ]
     },
     "execution_count": 5,
     "metadata": {},
     "output_type": "execute_result"
    }
   ],
   "source": [
    "# Need to find values for the float64 dtypes or we will lose close to half are data. Lets work through these 1 by 1\n",
    "# EstimatedEffectiveYeild = BorrowerRate - EstimatedLossFromFees\n",
    "estimated_loss_from_fees = loans['BorrowerRate'] - loans['EstimatedEffectiveYield']\n",
    "loans['EstimatedEffectiveYield'].fillna(loans['BorrowerRate'] - estimated_loss_from_fees.median(), inplace=True)\n",
    "loans['EstimatedEffectiveYield'].isnull().sum()"
   ]
  },
  {
   "cell_type": "code",
   "execution_count": 6,
   "metadata": {
    "slideshow": {
     "slide_type": "skip"
    }
   },
   "outputs": [
    {
     "data": {
      "text/plain": [
       "0"
      ]
     },
     "execution_count": 6,
     "metadata": {},
     "output_type": "execute_result"
    }
   ],
   "source": [
    "# EstimatedLoss is the estimated pricipal loss on chargeoffs, not a good way to calculate, lets just take the median value.\n",
    "loans['EstimatedLoss'].fillna(loans['EstimatedLoss'].median(), inplace=True)\n",
    "loans['EstimatedLoss'].isnull().sum()"
   ]
  },
  {
   "cell_type": "code",
   "execution_count": 7,
   "metadata": {
    "slideshow": {
     "slide_type": "skip"
    }
   },
   "outputs": [
    {
     "data": {
      "text/plain": [
       "0"
      ]
     },
     "execution_count": 7,
     "metadata": {},
     "output_type": "execute_result"
    }
   ],
   "source": [
    "# EstimatedReturn is the difference between Estimated Effective Yiueld and Estimated Loss Rate\n",
    "loans['EstimatedReturn'].fillna(loans['EstimatedEffectiveYield'] - loans['EstimatedLoss'], inplace=True)\n",
    "loans['EstimatedReturn'].isnull().sum()"
   ]
  },
  {
   "cell_type": "code",
   "execution_count": 8,
   "metadata": {
    "slideshow": {
     "slide_type": "skip"
    }
   },
   "outputs": [
    {
     "data": {
      "text/plain": [
       "0"
      ]
     },
     "execution_count": 8,
     "metadata": {},
     "output_type": "execute_result"
    }
   ],
   "source": [
    "# ProsperRating (numeric) is assigned at the time of loan listing, since we can't calculate, we will just use the median\n",
    "loans['ProsperRating (numeric)'].fillna(loans['ProsperRating (numeric)'].median(), inplace=True)\n",
    "loans['ProsperRating (numeric)'].isnull().sum()"
   ]
  },
  {
   "cell_type": "code",
   "execution_count": 9,
   "metadata": {
    "slideshow": {
     "slide_type": "skip"
    }
   },
   "outputs": [
    {
     "data": {
      "text/plain": [
       "0"
      ]
     },
     "execution_count": 9,
     "metadata": {},
     "output_type": "execute_result"
    }
   ],
   "source": [
    "# ProsperScore is assigned using historic prosper data, since we can't calculate, we will just use the median\n",
    "loans['ProsperScore'].fillna(loans['ProsperScore'].median(), inplace=True)\n",
    "loans['ProsperScore'].isnull().sum()"
   ]
  },
  {
   "cell_type": "code",
   "execution_count": 10,
   "metadata": {
    "slideshow": {
     "slide_type": "skip"
    }
   },
   "outputs": [
    {
     "data": {
      "text/plain": [
       "0"
      ]
     },
     "execution_count": 10,
     "metadata": {},
     "output_type": "execute_result"
    }
   ],
   "source": [
    "# BorrowerAPR is missing 25 values, BorrowerAPR = BorrowerRate + BorrowerFees Lets find the median fees and add it to the BorrowerRate\n",
    "loans['BorrowerAPR'].fillna(loans['BorrowerRate'] + (loans['BorrowerAPR'] - loans['BorrowerRate']).median(), inplace=True)\n",
    "loans['BorrowerAPR'].isnull().sum()"
   ]
  },
  {
   "cell_type": "code",
   "execution_count": 11,
   "metadata": {
    "slideshow": {
     "slide_type": "skip"
    }
   },
   "outputs": [],
   "source": [
    "# The majority of the remaining fields aren't of any real interest to my exploration, I will clean up a few fields by droping\n",
    "# there missing rows.\n",
    "loans.dropna(subset=['EmploymentStatusDuration', 'CurrentCreditLines', 'OpenCreditLines', 'AmountDelinquent', \n",
    "                     'CreditScoreRangeLower', 'FirstRecordedCreditLine', 'TotalCreditLinespast7years'], inplace=True)"
   ]
  },
  {
   "cell_type": "code",
   "execution_count": 16,
   "metadata": {
    "slideshow": {
     "slide_type": "skip"
    }
   },
   "outputs": [],
   "source": [
    "loans['newLoanStatus'] = ['Defaulted' if 'Past' in x else x for x in loans['LoanStatus']]"
   ]
  },
  {
   "cell_type": "code",
   "execution_count": 35,
   "metadata": {
    "slideshow": {
     "slide_type": "skip"
    }
   },
   "outputs": [],
   "source": [
    "# Give actual names to the ListingCategory\n",
    "listingdic = {0:'Not Available', 1: 'Debt Consolidation', 2: 'Home Improvement', 3: 'Business', 4: 'Personal Loan', \n",
    "              5: 'Student Use', 6: 'Auto', 7: 'Other', 8: 'Baby&Adoption', 9: 'Boat', 10: 'Cosmetic Procedure', 11: 'Engagement Ring',\n",
    "              12: 'Green Loans', 13: 'Household Expenses', 14: 'Large Purchases', 15: 'Medical/Dental', 16: 'Motorcycle',\n",
    "              17: 'RV', 18: 'Taxes', 19: 'Vacation', 20: 'Wedding Loans'}\n",
    "\n",
    "loans.replace({'ListingCategory (numeric)': listingdic}, inplace=True)\n",
    "## Don't need the old Column Name of ListingCategory (numeric), lets Change it to ListingCategory\n",
    "loans.rename(columns={'ListingCategory (numeric)':'ListingCategory'}, inplace=True)"
   ]
  },
  {
   "cell_type": "markdown",
   "metadata": {
    "slideshow": {
     "slide_type": "slide"
    }
   },
   "source": [
    "## LoanStatus Breakdown\n",
    "\n",
    "> Here we can see what the break down of the differing loan statuses are. We can see a strong indication the most loans are current, and a large percentage of loans are complete. Thats why we end up droping those records later. Later we will combine Defaulted, Chargedoff, and Cancelled into the Category Defaulted, and Current, FinalPaymentInProgress as Current."
   ]
  },
  {
   "cell_type": "code",
   "execution_count": 36,
   "metadata": {
    "slideshow": {
     "slide_type": "subslide"
    }
   },
   "outputs": [
    {
     "data": {
      "image/png": "[encoded data removed]",
      "text/plain": [
       "<Figure size 432x288 with 1 Axes>"
      ]
     },
     "metadata": {
      "needs_background": "light"
     },
     "output_type": "display_data"
    }
   ],
   "source": [
    "g = sns.countplot(loans['newLoanStatus'], color='blue')\n",
    "plt.title('LoanStatus Breakdown')\n",
    "plt.xticks(rotation=60);"
   ]
  },
  {
   "cell_type": "markdown",
   "metadata": {
    "collapsed": true,
    "slideshow": {
     "slide_type": "slide"
    }
   },
   "source": [
    "## Loans Issued by ProsperScore\n",
    "\n",
    "> Here we can see that a majority of the loans recieved a Prosper score of 6, Prosper seems to do a fairly good job breaking the loans into varying categories, as it looks like a mirror image folded over the 6 category."
   ]
  },
  {
   "cell_type": "code",
   "execution_count": 37,
   "metadata": {
    "slideshow": {
     "slide_type": "subslide"
    }
   },
   "outputs": [
    {
     "data": {
      "image/png": "[encoded data removed]",
      "text/plain": [
       "<Figure size 432x288 with 1 Axes>"
      ]
     },
     "metadata": {
      "needs_background": "light"
     },
     "output_type": "display_data"
    }
   ],
   "source": [
    "g = sns.barplot(x=loans.ProsperScore.value_counts().index, y=loans.ProsperScore.value_counts(), color='blue')\n",
    "plt.title('ProsperScore Breakdown')\n",
    "plt.xlabel('ProsperScore')\n",
    "plt.ylabel('Count')\n",
    "plt.xticks(rotation=90);"
   ]
  },
  {
   "cell_type": "markdown",
   "metadata": {
    "collapsed": true,
    "slideshow": {
     "slide_type": "slide"
    }
   },
   "source": [
    "## Loans Issued by OriginalLoanAmount\n",
    "\n",
    "> The distribution of loans is Right Skewed as you'd expect, larger loans are harder to get. We can see loans of all different values have been issued, however, we can see several main dollar amounts tend to pop up on $5k increments."
   ]
  },
  {
   "cell_type": "code",
   "execution_count": 38,
   "metadata": {
    "slideshow": {
     "slide_type": "subslide"
    }
   },
   "outputs": [
    {
     "data": {
      "image/png": "[encoded data removed]",
      "text/plain": [
       "<Figure size 432x288 with 1 Axes>"
      ]
     },
     "metadata": {
      "needs_background": "light"
     },
     "output_type": "display_data"
    }
   ],
   "source": [
    "la = plt.hist(loans['LoanOriginalAmount'], bins=np.arange(100,35000,1000))\n",
    "plt.xlabel('Loan Amount')\n",
    "plt.ylabel('Count')\n",
    "plt.title('Histogram of LoanAmount in $1k buckets');"
   ]
  },
  {
   "cell_type": "markdown",
   "metadata": {
    "collapsed": true,
    "slideshow": {
     "slide_type": "slide"
    }
   },
   "source": [
    "## Loans Issued by OriginalLoanAmount\n",
    "\n",
    "> Loans of all different values have been issued, however, we can see several man dollar amounts tend to pop up on $5k increments"
   ]
  },
  {
   "cell_type": "code",
   "execution_count": 39,
   "metadata": {
    "slideshow": {
     "slide_type": "subslide"
    }
   },
   "outputs": [
    {
     "data": {
      "image/png": "[encoded data removed]",
      "text/plain": [
       "<Figure size 432x288 with 1 Axes>"
      ]
     },
     "metadata": {
      "needs_background": "light"
     },
     "output_type": "display_data"
    }
   ],
   "source": [
    "la = plt.hist(loans['LoanOriginalAmount'], bins=np.arange(100,35000,1000))\n",
    "plt.xlabel('Loan Amount')\n",
    "plt.ylabel('Count')\n",
    "plt.title('Histogram of LoanAmount in $1k buckets');"
   ]
  },
  {
   "cell_type": "code",
   "execution_count": 40,
   "metadata": {
    "slideshow": {
     "slide_type": "skip"
    }
   },
   "outputs": [
    {
     "data": {
      "text/plain": [
       "Current                   56566\n",
       "Chargedoff                10632\n",
       "Defaulted                  3289\n",
       "Past Due (1-15 days)        806\n",
       "Past Due (31-60 days)       363\n",
       "Past Due (61-90 days)       313\n",
       "Past Due (91-120 days)      304\n",
       "Past Due (16-30 days)       265\n",
       "Past Due (>120 days)         16\n",
       "Cancelled                     1\n",
       "Name: LoanStatus, dtype: int64"
      ]
     },
     "execution_count": 40,
     "metadata": {},
     "output_type": "execute_result"
    }
   ],
   "source": [
    "# Create a new df with loans that aren't complete\n",
    "loans_default = loans[loans['LoanStatus'] != 'Completed']\n",
    "loans_default = loans_default[loans_default['LoanStatus'] != 'FinalPaymentInProgress']\n",
    "loans_default['LoanStatus'].value_counts()"
   ]
  },
  {
   "cell_type": "code",
   "execution_count": 41,
   "metadata": {
    "slideshow": {
     "slide_type": "skip"
    }
   },
   "outputs": [
    {
     "data": {
      "text/plain": [
       "array([1, 0], dtype=int64)"
      ]
     },
     "execution_count": 41,
     "metadata": {},
     "output_type": "execute_result"
    }
   ],
   "source": [
    "# Change all Current as 1 and anything else as 0\n",
    "loans_default['LoanStatus'] = (loans_default['LoanStatus'] == \"Current\").astype(int)\n",
    "loans_default.LoanStatus.unique()"
   ]
  },
  {
   "cell_type": "markdown",
   "metadata": {
    "slideshow": {
     "slide_type": "slide"
    }
   },
   "source": [
    "#### 77.9 percent of active loans are not in a default status, leaving the remaining 22.1% deliquent. Lets look into where some of these deliquent loans are coming from."
   ]
  },
  {
   "cell_type": "markdown",
   "metadata": {
    "collapsed": true,
    "slideshow": {
     "slide_type": "slide"
    }
   },
   "source": [
    "## LoanStatus by ListingCategory\n",
    "\n",
    "> Loans taken out for Personal, Student, or where the use was Unknown were 100% in default status. This would tell me, loans of those types are very risky to fund. Where loans for RV's and Motorcycles are much more likely to be current."
   ]
  },
  {
   "cell_type": "code",
   "execution_count": 42,
   "metadata": {
    "slideshow": {
     "slide_type": "subslide"
    }
   },
   "outputs": [
    {
     "data": {
      "image/png": "[encoded data removed]",
      "text/plain": [
       "<Figure size 432x288 with 1 Axes>"
      ]
     },
     "metadata": {
      "needs_background": "light"
     },
     "output_type": "display_data"
    }
   ],
   "source": [
    "sns.barplot(x='ListingCategory', y='LoanStatus', data=loans_default)\n",
    "plt.title('Percent of Loans Current by Category')\n",
    "plt.xticks(rotation=90);"
   ]
  },
  {
   "cell_type": "markdown",
   "metadata": {
    "collapsed": true,
    "slideshow": {
     "slide_type": "slide"
    }
   },
   "source": [
    "## LoanStatus by ProsperScore\n",
    "> How well do loans do based on the Score Prosper gives the applicant. Here we can see that only half of the applicants with a score of 6, which also held the majority of loans are curent on their loans. The highest scores have a higher rate of being current, where the lowest score (1) has a lower rate, while not the lowest."
   ]
  },
  {
   "cell_type": "code",
   "execution_count": 44,
   "metadata": {
    "slideshow": {
     "slide_type": "subslide"
    }
   },
   "outputs": [
    {
     "data": {
      "image/png": "[encoded data removed]",
      "text/plain": [
       "<Figure size 432x288 with 1 Axes>"
      ]
     },
     "metadata": {
      "needs_background": "light"
     },
     "output_type": "display_data"
    }
   ],
   "source": [
    "sns.barplot(x='ProsperScore', y='LoanStatus', data=loans_default)\n",
    "plt.title('Percent of Loans Current by ProsperScore')\n",
    "plt.xticks(rotation=90);"
   ]
  },
  {
   "cell_type": "markdown",
   "metadata": {
    "collapsed": true,
    "slideshow": {
     "slide_type": "slide"
    }
   },
   "source": [
    "## LoanStatus in Relation to LoanAmount and Borrower APR\n",
    "> In these charts we can see that we have a larger number of loans in the smaller loan amounts <5k that are in default then current. And loans that are current seem to have a higher freq of loans in the 10k and 15k range then loans that are in default. The same can be said for BorrowerAPR, loans that have a higher rate, more risky, tend to default more often, then those with a lower APR."
   ]
  },
  {
   "cell_type": "code",
   "execution_count": 54,
   "metadata": {
    "slideshow": {
     "slide_type": "subslide"
    }
   },
   "outputs": [
    {
     "data": {
      "image/png": "[encoded data removed]",
      "text/plain": [
       "<Figure size 432x288 with 2 Axes>"
      ]
     },
     "metadata": {
      "needs_background": "light"
     },
     "output_type": "display_data"
    }
   ],
   "source": [
    "fig = plt.figure()\n",
    "ax1 = fig.add_subplot(131)\n",
    "sns.violinplot(x='LoanStatus', y='LoanOriginalAmount', data=loans_default).set_ylim([0,40000])\n",
    "\n",
    "ax2 = fig.add_subplot(122)\n",
    "sns.violinplot(x='LoanStatus', y='BorrowerAPR', data=loans_default).set_ylim([0,.50]);"
   ]
  },
  {
   "cell_type": "markdown",
   "metadata": {
    "collapsed": true,
    "slideshow": {
     "slide_type": "slide"
    }
   },
   "source": [
    "## Sankey Diagram of Score to Status to ListingCategory.\n",
    "> I find this diagram to show a nice representation of loans. Here we can see that the largest number of loans tend to come from ProsperScores of 6, And if we follow the split we can see that over 53% of them are in Default. We can then see of the loans in default that 40% of them were for Debt Consolidation. As an investor, you might want to invest in loans that aren't for Debt Consolidation. "
   ]
  },
  {
   "cell_type": "code",
   "execution_count": 55,
   "metadata": {
    "slideshow": {
     "slide_type": "skip"
    }
   },
   "outputs": [],
   "source": [
    "# Lets create two new dataframes by grouping some categories together and finding the counts in each. This will be used later\n",
    "# to create the chart.\n",
    "df1 = loans_default.groupby(['ProsperScore', 'LoanStatus']).size().reset_index(name='counts')\n",
    "df2 = loans_default.groupby(['LoanStatus', 'ListingCategory']).size().reset_index(name='counts')"
   ]
  },
  {
   "cell_type": "code",
   "execution_count": 56,
   "metadata": {
    "slideshow": {
     "slide_type": "skip"
    }
   },
   "outputs": [],
   "source": [
    "# Now we need to create an empty list that we can fill with some dictionaries, and a dict of colors for the different categories.\n",
    "# Then we can loop through the dataframes we created eariler adding them to the links list as dicts.\n",
    "links = []\n",
    "colors = {'Cur': 'steelblue', 'Def':'indianred', 1:'maroon', 2:'darkred', 3:'red', 4:'gold', 5:'olive', 6:'yellow', 7:'lime', 8:'limegreen', 9:'forestgreen', 10:'green', 11:'darkgreen'}\n",
    "for index, row in df1.iterrows():\n",
    "    if row['LoanStatus'] == 1:\n",
    "        links.append({'source': row['ProsperScore'], 'target': 'Cur', 'value': row['counts'], 'color':colors[row['ProsperScore']]})\n",
    "    else:\n",
    "        links.append({'source': row['ProsperScore'], 'target': 'Def', 'value': row['counts'], 'color':colors[row['ProsperScore']]})\n",
    "        \n",
    "        \n",
    "for index, row in df2.iterrows():\n",
    "    if row['LoanStatus'] == 1:\n",
    "        links.append({'source': 'Cur', 'target': row['ListingCategory'], 'value': row['counts'], 'color':colors['Cur']})\n",
    "    else:\n",
    "        links.append({'source': 'Def', 'target': row['ListingCategory'], 'value': row['counts'], 'color':colors['Def']})"
   ]
  },
  {
   "cell_type": "code",
   "execution_count": 57,
   "metadata": {
    "slideshow": {
     "slide_type": "skip"
    }
   },
   "outputs": [
    {
     "data": {
      "application/vnd.jupyter.widget-view+json": {
       "model_id": "ecb9e65ed6884457a7256c763436c3f7",
       "version_major": 2,
       "version_minor": 0
      },
      "text/plain": [
       "SankeyWidget(groups=[{'id': 'A', 'title': 'ProsperScore', 'nodes': [7.0, 9.0, 4.0, 10.0, 2.0, 4.0, 9.0, 11.0, …"
      ]
     },
     "metadata": {},
     "output_type": "display_data"
    }
   ],
   "source": [
    "# Create the Sankey Diagram, order defines the sort order, groups helps to identify which column is being ploted\n",
    "from ipysankeywidget import SankeyWidget\n",
    "from ipywidgets import Layout\n",
    "\n",
    "layout = Layout(width=\"1000\", height=\"1200\")\n",
    "def sankey(margin_top=10, **value):\n",
    "    \"\"\"Show SankeyWidget with default values for size and margins\"\"\"\n",
    "    return SankeyWidget(layout=layout,\n",
    "                        margins=dict(top=margin_top, bottom=0, left=20, right=100),\n",
    "                        **value)\n",
    "order = [[1, 2, 3, 4, 5, 6, 7, 8, 9, 10, 11], ['Cur', 'Def'], loans_default.ListingCategory.tolist()]\n",
    "groups = [{'id': 'A', 'title': 'ProsperScore', 'nodes': loans_default.ProsperScore.tolist()},\n",
    "         {'id': 'B', 'title': 'LoanStatus', 'nodes': ['Cur', 'Def']},\n",
    "         {'id': 'C', 'title': 'ListingCategory', 'nodes': loans_default.ListingCategory.tolist()}]\n",
    "sankey(links=links, order=order, linkLabelFormat='.1f', groups=groups).auto_save_png('sankey.png')"
   ]
  },
  {
   "cell_type": "code",
   "execution_count": 58,
   "metadata": {
    "slideshow": {
     "slide_type": "subslide"
    }
   },
   "outputs": [
    {
     "data": {
      "text/html": [
       "<img src=\"sankey.png\" />"
      ],
      "text/plain": [
       "<IPython.core.display.HTML object>"
      ]
     },
     "metadata": {},
     "output_type": "display_data"
    }
   ],
   "source": [
    "%%html\n",
    "<img src=\"sankey.png\" />"
   ]
  },
  {
   "cell_type": "markdown",
   "metadata": {
    "slideshow": {
     "slide_type": "notes"
    }
   },
   "source": [
    "> Once you're ready to finish your presentation, check your output by using\n",
    "nbconvert to export the notebook and set up a server for the slides. From the\n",
    "terminal or command line, use the following expression:\n",
    "> > `jupyter nbconvert <file_name>.ipynb --to slides --post serve --template output_toggle`\n",
    "\n",
    "> This should open a tab in your web browser where you can scroll through your\n",
    "presentation. Sub-slides can be accessed by pressing 'down' when viewing its parent\n",
    "slide. Make sure you remove all of the quote-formatted guide notes like this one\n",
    "before you finish your presentation!"
   ]
  },
  {
   "cell_type": "code",
   "execution_count": null,
   "metadata": {},
   "outputs": [],
   "source": []
  }
 ],
 "metadata": {
  "celltoolbar": "Slideshow",
  "kernelspec": {
   "display_name": "Python 3",
   "language": "python",
   "name": "python3"
  },
  "language_info": {
   "codemirror_mode": {
    "name": "ipython",
    "version": 3
   },
   "file_extension": ".py",
   "mimetype": "text/x-python",
   "name": "python",
   "nbconvert_exporter": "python",
   "pygments_lexer": "ipython3",
   "version": "3.7.0"
  }
 },
 "nbformat": 4,
 "nbformat_minor": 2
}
